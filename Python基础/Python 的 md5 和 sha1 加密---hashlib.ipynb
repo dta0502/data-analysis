{
 "cells": [
  {
   "cell_type": "markdown",
   "metadata": {},
   "source": [
    "# Python 的 md5 和 sha1 加密---hashlib"
   ]
  },
  {
   "cell_type": "markdown",
   "metadata": {},
   "source": [
    "## md5 与 sha1\n",
    "MD5的全称是`Message-Digest Algorithm 5（信息-摘要算法）`。128位长度。目前MD5是一种不可逆算法。具有很高的安全性。它对应任何字符串都可以加密成一段唯一的固定长度的代码。\n",
    "\n",
    "md5的应用场景： \n",
    "- 加密网站注册用户的密码。（但去年的各大网站密码泄漏事件确实让人蛋疼……）\n",
    "- 网站用户上传图片 / 文件后，计算出 MD5 值作为文件名。（MD5可以保证唯一性）\n",
    "- key-value数据库中使用MD5值作为key。\n",
    "- 比较两个文件是否相同。（大家在下载一些资源的时候，就会发现网站提供了MD5值，就是用来检测文件是否被篡改） \n",
    "\n",
    "\n",
    "SHA1的全称是`Secure Hash Algorithm（安全哈希算法）`。SHA1基于MD5，加密后的数据长度更长，它对长度小于264的输入，产生长度为160 bit的散列值。比MD5多32位。因此，比MD5更加安全，但SHA1的运算速度就比 MD5 要慢了。"
   ]
  },
  {
   "cell_type": "code",
   "execution_count": 3,
   "metadata": {},
   "outputs": [
    {
     "data": {
      "text/plain": [
       "'3343b9dffc0efbab68a57bba3f419a1b'"
      ]
     },
     "execution_count": 3,
     "metadata": {},
     "output_type": "execute_result"
    }
   ],
   "source": [
    "import hashlib\n",
    "\n",
    "text = 'This is a md5 text.'\n",
    "\n",
    "text_md5 = hashlib.md5(text.encode('utf-8'))\n",
    "text_md5.hexdigest()"
   ]
  },
  {
   "cell_type": "code",
   "execution_count": 4,
   "metadata": {},
   "outputs": [
    {
     "data": {
      "text/plain": [
       "'d76e2c3830efabb6c7986d9c71fcc040bfae5d6e'"
      ]
     },
     "execution_count": 4,
     "metadata": {},
     "output_type": "execute_result"
    }
   ],
   "source": [
    "text_sha1 = hashlib.sha1(text.encode('utf-8'))\n",
    "text_sha1.hexdigest()"
   ]
  },
  {
   "cell_type": "code",
   "execution_count": 5,
   "metadata": {},
   "outputs": [
    {
     "data": {
      "text/plain": [
       "'3343b9dffc0efbab68a57bba3f419a1b'"
      ]
     },
     "execution_count": 5,
     "metadata": {},
     "output_type": "execute_result"
    }
   ],
   "source": [
    "# 或者采用如下的方式进行散列\n",
    "m = hashlib.md5()\n",
    "m.update(text.encode('utf-8'))\n",
    "m.hexdigest()"
   ]
  },
  {
   "cell_type": "markdown",
   "metadata": {},
   "source": [
    "对要散列编码的文本，必须要重新指定编码，一般选择utf-8，详见[“TypeError: Unicode-objects must be encoded before hashing”](http://stackoverflow.com/questions/7585307/typeerror-unicode-objects-must-be-encoded-before-hashing) 。"
   ]
  },
  {
   "cell_type": "markdown",
   "metadata": {},
   "source": [
    "## 大文件的哈希散列\n",
    "上面说过可以用MD5来检测两个文件是否相同，但想想，如果是两个很大的文件，担心内存不够用，这时怎么办？\n",
    "\n",
    "这就要使用`update`方法了。代码如下："
   ]
  },
  {
   "cell_type": "code",
   "execution_count": 6,
   "metadata": {},
   "outputs": [],
   "source": [
    "def gen_md5(f):\n",
    "    f_md5 = hashlib.md5()\n",
    "    while True:\n",
    "        data = f.read(1024)\n",
    "        if not data:\n",
    "            break\n",
    "        f_md5.update(data)\n",
    "    return f_md5.hexdigest()"
   ]
  },
  {
   "cell_type": "markdown",
   "metadata": {},
   "source": [
    "一个更 Python 风格的实现："
   ]
  },
  {
   "cell_type": "code",
   "execution_count": 7,
   "metadata": {},
   "outputs": [],
   "source": [
    "def md5(fname):\n",
    "    hash_md5 = hashlib.md5()\n",
    "    with open(fname, \"rb\") as f:\n",
    "        for chunk in iter(lambda: f.read(4096), b\"\"):\n",
    "            hash_md5.update(chunk)\n",
    "    return hash_md5.hexdigest()"
   ]
  }
 ],
 "metadata": {
  "kernelspec": {
   "display_name": "Python 3",
   "language": "python",
   "name": "python3"
  },
  "language_info": {
   "codemirror_mode": {
    "name": "ipython",
    "version": 3
   },
   "file_extension": ".py",
   "mimetype": "text/x-python",
   "name": "python",
   "nbconvert_exporter": "python",
   "pygments_lexer": "ipython3",
   "version": "3.6.6"
  }
 },
 "nbformat": 4,
 "nbformat_minor": 2
}
