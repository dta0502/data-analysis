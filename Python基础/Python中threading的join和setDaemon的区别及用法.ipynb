{
 "cells": [
  {
   "cell_type": "markdown",
   "metadata": {},
   "source": [
    "# Python中threading的join和setDaemon的区别及用法\n",
    "\n",
    "Python多线程编程时，经常会用到`join()`和`setDaemon()`方法，今天特地研究了一下两者的区别。"
   ]
  },
  {
   "cell_type": "markdown",
   "metadata": {},
   "source": [
    "## join()方法\n",
    "\n",
    "主线程A中，创建了子线程B，并且在主线程A中调用了`B.join()`，那么，主线程A会在调用的地方等待，直到子线程B完成操作后，才可以接着往下执行，那么在调用这个线程时可以使用被调用线程的join方法。\n",
    "\n",
    "\n",
    "### 原型\n",
    "\n",
    "```python\n",
    "join([timeout])\n",
    "```\n",
    "\n",
    "里面的参数时可选的，代表线程运行的最大时间，即如果超过这个时间，不管这个此线程有没有执行完毕都会被回收，然后主线程或函数都会接着执行的。\n",
    "\n",
    "### 例子1"
   ]
  },
  {
   "cell_type": "code",
   "execution_count": 1,
   "metadata": {},
   "outputs": [
    {
     "name": "stdout",
     "output_type": "stream",
     "text": [
      "0\n",
      "1\n",
      "2\n",
      "3\n",
      "4\n",
      "999\n"
     ]
    }
   ],
   "source": [
    "import threading\n",
    "import time\n",
    "\n",
    "class MyThread(threading.Thread):\n",
    "    def __init__(self,id):\n",
    "        threading.Thread.__init__(self)\n",
    "        self.id = id\n",
    "    def run(self):\n",
    "        x = 0\n",
    "        time.sleep(10)\n",
    "        print(self.id)\n",
    "\n",
    "if __name__ == \"__main__\":\n",
    "    t1=MyThread(999)\n",
    "    t1.start()\n",
    "    for i in range(5):\n",
    "        print(i)"
   ]
  },
  {
   "cell_type": "markdown",
   "metadata": {},
   "source": [
    "机器上运行时，4和999之间，有明显的停顿。解释：线程`t1 start`后，主线程并没有等线程t1运行结束后再执行，而是先把5次循环打印执行完毕（打印到4），然后`sleep(10)`后，线程t1把传进去的999才打印出来。\n",
    "\n",
    "### 例子2\n",
    "\n",
    "现在，我们把`join()`方法加进去(其他代码不变)，看看有什么不一样。"
   ]
  },
  {
   "cell_type": "code",
   "execution_count": 2,
   "metadata": {},
   "outputs": [
    {
     "name": "stdout",
     "output_type": "stream",
     "text": [
      "999\n",
      "0\n",
      "1\n",
      "2\n",
      "3\n",
      "4\n"
     ]
    }
   ],
   "source": [
    "import threading\n",
    "import time\n",
    "\n",
    "class MyThread(threading.Thread):\n",
    "    def __init__(self,id):\n",
    "        threading.Thread.__init__(self)\n",
    "        self.id = id\n",
    "    def run(self):\n",
    "        x = 0\n",
    "        time.sleep(10)\n",
    "        print(self.id)\n",
    "\n",
    "if __name__ == \"__main__\":\n",
    "    t1=MyThread(999)\n",
    "    t1.start()\n",
    "    t1.join()\n",
    "    for i in range(5):\n",
    "        print(i)"
   ]
  },
  {
   "cell_type": "markdown",
   "metadata": {},
   "source": [
    "机器上运行时，999之前，有明显的停顿。解释：线程`t1 start`后，主线程停在了`join()`方法处，等`sleep(10)`后，线程t1操作结束被join，接着，主线程继续循环打印。"
   ]
  },
  {
   "cell_type": "markdown",
   "metadata": {},
   "source": [
    "## setDaemon()方法\n",
    "\n",
    "主线程A中，创建了子线程B，并且在主线程A中调用了`B.setDaemon()`,这个的意思是，设置B为守护进程（**注意：表示你在说这个线程是不重要的**），要是主线程A执行结束了，就不管子线程B是否完成,一并和主线程A退出。这就是setDaemon方法的含义，这基本和join是相反的。**此外，还有个要特别注意的：必须在`start()`方法调用之前设置，如果不设置为守护线程，程序会被无限挂起。**"
   ]
  },
  {
   "cell_type": "code",
   "execution_count": 3,
   "metadata": {},
   "outputs": [
    {
     "name": "stdout",
     "output_type": "stream",
     "text": [
      "I am the father thread.\n",
      "This is Thread-8\n"
     ]
    }
   ],
   "source": [
    "import threading\n",
    "import time\n",
    "\n",
    "class MyThread(threading.Thread):\n",
    "    def __init__(self,id):\n",
    "        threading.Thread.__init__(self)\n",
    "    def run(self):\n",
    "        time.sleep(5)\n",
    "        print(\"This is \" + self.getName())\n",
    "\n",
    "if __name__ == \"__main__\":\n",
    "    t1=MyThread(999)\n",
    "    t1.setDaemon(True)\n",
    "    t1.start()\n",
    "    print(\"I am the father thread.\")"
   ]
  },
  {
   "cell_type": "markdown",
   "metadata": {},
   "source": [
    "可以看出，子线程t1中的内容并未打出。解释：`t1.setDaemon(True)`的操作，将父线程设置为了守护线程。根据`setDaemon()`方法的含义，父线程打印内容后便结束了，不管子线程是否执行完毕了。\n",
    "\n",
    "程序运行中，执行一个主线程，如果主线程又创建一个子线程，主线程和子线程就分兵两路，分别运行，那么当主线程完成想退出时，会检验子线程是否完成。如果子线程未完成，则主线程会等待子线程完成后再退出。但是有时候我们需要的是，只要主线程完成了，不管子线程是否完成，都要和主线程一起退出，这时就可以用setDaemon方法了。"
   ]
  }
 ],
 "metadata": {
  "kernelspec": {
   "display_name": "Python 3",
   "language": "python",
   "name": "python3"
  },
  "language_info": {
   "codemirror_mode": {
    "name": "ipython",
    "version": 3
   },
   "file_extension": ".py",
   "mimetype": "text/x-python",
   "name": "python",
   "nbconvert_exporter": "python",
   "pygments_lexer": "ipython3",
   "version": "3.6.1"
  },
  "toc": {
   "nav_menu": {},
   "number_sections": true,
   "sideBar": true,
   "skip_h1_title": false,
   "title_cell": "Table of Contents",
   "title_sidebar": "Contents",
   "toc_cell": false,
   "toc_position": {},
   "toc_section_display": true,
   "toc_window_display": false
  }
 },
 "nbformat": 4,
 "nbformat_minor": 2
}
