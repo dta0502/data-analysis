{
 "cells": [
  {
   "cell_type": "markdown",
   "metadata": {},
   "source": [
    "# Python---threading.Timer"
   ]
  },
  {
   "cell_type": "markdown",
   "metadata": {},
   "source": [
    "## 一、Timer类基本介绍\n",
    "这个类表示一个动作应该在一个特定的时间之后运行 — 也就是一个计时器。Timer是Thread的子类， 因此也可以使用函数创建自定义线程。\n",
    "\n",
    "```python\n",
    "class threading.Timer(interval, function, args=[], kwargs={}) \n",
    "```\n",
    "\n",
    "创建一个timer，在interval秒过去之后，它将以参数`args`和关键字参数`kwargs`运行function 。\n",
    "\n",
    "## 二、简单例子"
   ]
  },
  {
   "cell_type": "code",
   "execution_count": 2,
   "metadata": {},
   "outputs": [
    {
     "name": "stdout",
     "output_type": "stream",
     "text": [
      "hello, world\n"
     ]
    }
   ],
   "source": [
    "from threading import Timer\n",
    "\n",
    "def fun():\n",
    "    print(\"hello, world\")\n",
    "\n",
    "if __name__=='__main__':\n",
    "    t = Timer(5.0, fun)\n",
    "    t.start() # 5秒后, \"hello, world\"将被打印"
   ]
  },
  {
   "cell_type": "markdown",
   "metadata": {},
   "source": [
    "## 三、取消线程执行\n",
    "- Timer通过调用它们的start()方法作为线程启动。\n",
    "- Timer通过调用cancel()方法（在它的动作开始之前）停止。**停止timer，并取消timer动作的执行。这只在timer仍然处于等待阶段时才工作。**\n",
    "- Timer在执行它的动作之前等待的时间间隔可能与用户指定的时间间隔不完全相同。\n",
    "\n"
   ]
  },
  {
   "cell_type": "code",
   "execution_count": 3,
   "metadata": {},
   "outputs": [],
   "source": [
    "from threading import Timer\n",
    "\n",
    "def fun():\n",
    "    print(\"hello, world\")\n",
    "\n",
    "if __name__=='__main__':\n",
    "    t = Timer(5.0, fun)\n",
    "    t.start() # 开始执行线程，但是不会打印\"hello, world\"\n",
    "    t.cancel() # 因为cancel取消了线程的执行，所以fun()函数不会被执行"
   ]
  }
 ],
 "metadata": {
  "kernelspec": {
   "display_name": "Python 3",
   "language": "python",
   "name": "python3"
  },
  "language_info": {
   "codemirror_mode": {
    "name": "ipython",
    "version": 3
   },
   "file_extension": ".py",
   "mimetype": "text/x-python",
   "name": "python",
   "nbconvert_exporter": "python",
   "pygments_lexer": "ipython3",
   "version": "3.6.6"
  }
 },
 "nbformat": 4,
 "nbformat_minor": 2
}
