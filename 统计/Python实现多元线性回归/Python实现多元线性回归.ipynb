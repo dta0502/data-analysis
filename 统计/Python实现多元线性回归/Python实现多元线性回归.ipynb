{
 "cells": [
  {
   "cell_type": "markdown",
   "metadata": {},
   "source": [
    "# Python实现多元线性回归\n",
    "[参考](https://blog.csdn.net/weixin_40014576/article/details/79918819)"
   ]
  },
  {
   "cell_type": "markdown",
   "metadata": {},
   "source": [
    "## 线性回归介绍\n",
    "线性回归是利用数理统计中回归分析，来确定两种或两种以上变量间相互依赖的定量关系的一种统计分析方法，运用十分广泛。其表达形式为`y = (w.T)x+e`，e为误差服从均值为0的正态分布。回归分析中，只包括一个自变量和一个因变量，且二者的关系可用一条直线近似表示，这种回归分析称为一元线性回归分析。如果回归分析中包括两个或两个以上的自变量，且因变量和自变量之间是线性关系，则称为多元线性回归分析。\n",
    "\n",
    "线性回归属于回归问题。对于回归问题，解决流程为：   \n",
    "给定数据集中每个样本及其正确答案，选择一个模型函数h（hypothesis，假设），并为h找到适应数据的（未必是全局）最优解，即找出最优解下的h的参数。这里给定的数据集取名叫训练集（Training Set）。不能所有数据都拿来训练，要留一部分验证模型好不好使，这点以后说。先列举几个几个典型的模型：\n",
    "- 最基本的单变量线性回归：   \n",
    "    形如`h(x)=theta0+theta1*x1`\n",
    "- 多变量线性回归：   \n",
    "    形如`h(x)=theta0+theta1*x1+theta2*x2+theta3*x3`\n",
    "- 多项式回归（Polynomial Regression）：   \n",
    "    形如`h(x)=theta0+theta1*x1+theta2*(x2^2)+theta3*(x3^3)`   \n",
    "    或者`h(x)=ttheta0+theta1*x1+theta2*sqr(x2)`   \n",
    "    但是可以令`x2=x2^2`，`x3=x3^3`，于是又将其转化为了线性回归模型。虽然不能说多项式回归问题属于线性回归问题，但是一般我们就是这么做的。\n",
    "- 所以最终通用表达式就是：  \n",
    "    `h(x) = (theta.T)*X = theta0+theta1*x1+theta2*x2+...+thetan*xn`"
   ]
  },
  {
   "cell_type": "markdown",
   "metadata": {},
   "source": [
    "## 数据导入与清洗\n",
    "对于数据导入来说，可以利用pandas内的read_csv的函数来对数据进行导入操作，在进行多元线性回归之间通过简单线性回归来展现线性回归的特性和结果之后再延伸至多元线性回归。\n",
    "\n",
    "在进行数据导入之间需要导入进行线性回归的包："
   ]
  },
  {
   "cell_type": "code",
   "execution_count": 20,
   "metadata": {},
   "outputs": [],
   "source": [
    "import pandas as pd\n",
    "import numpy as np\n",
    "import matplotlib.pyplot as plt\n",
    "import seaborn as sns\n",
    "from sklearn.model_selection import train_test_split\n",
    "from sklearn.linear_model import LinearRegression"
   ]
  },
  {
   "cell_type": "markdown",
   "metadata": {},
   "source": [
    "我们利用pandas和numpy对数据进行操作，使用matplotlib进行图像化，使用sklearn进行数据集训练与模型导入。"
   ]
  },
  {
   "cell_type": "markdown",
   "metadata": {},
   "source": [
    "## 简单线性回归\n",
    "\n",
    "### 数据集创建\n",
    "对于学生来说，所学习的时间和考试的成绩挂钩，所学习的时间与考试的成绩也是呈线性相关。创建一个数据集来描述学生学习时间与成绩的关系并且做简单的线性回归。"
   ]
  },
  {
   "cell_type": "code",
   "execution_count": 2,
   "metadata": {},
   "outputs": [],
   "source": [
    "#创建数据集\n",
    "examDict  = {'学习时间':[0.50,0.75,1.00,1.25,1.50,1.75,1.75,2.00,2.25,2.50,2.75,3.00,3.25,3.50,4.00,4.25,4.50,4.75,5.00,5.50],\n",
    "             '分数':[10,22,13,43,20,22,33,50,62,48,55,75,62,73,81,76,64,82,90,93]}\n",
    "#转换为DataFrame的数据格式\n",
    "examDf = pd.DataFrame(examDict)"
   ]
  },
  {
   "cell_type": "code",
   "execution_count": 3,
   "metadata": {},
   "outputs": [
    {
     "data": {
      "text/html": [
       "<div>\n",
       "<style scoped>\n",
       "    .dataframe tbody tr th:only-of-type {\n",
       "        vertical-align: middle;\n",
       "    }\n",
       "\n",
       "    .dataframe tbody tr th {\n",
       "        vertical-align: top;\n",
       "    }\n",
       "\n",
       "    .dataframe thead th {\n",
       "        text-align: right;\n",
       "    }\n",
       "</style>\n",
       "<table border=\"1\" class=\"dataframe\">\n",
       "  <thead>\n",
       "    <tr style=\"text-align: right;\">\n",
       "      <th></th>\n",
       "      <th>分数</th>\n",
       "      <th>学习时间</th>\n",
       "    </tr>\n",
       "  </thead>\n",
       "  <tbody>\n",
       "    <tr>\n",
       "      <th>0</th>\n",
       "      <td>10</td>\n",
       "      <td>0.50</td>\n",
       "    </tr>\n",
       "    <tr>\n",
       "      <th>1</th>\n",
       "      <td>22</td>\n",
       "      <td>0.75</td>\n",
       "    </tr>\n",
       "    <tr>\n",
       "      <th>2</th>\n",
       "      <td>13</td>\n",
       "      <td>1.00</td>\n",
       "    </tr>\n",
       "    <tr>\n",
       "      <th>3</th>\n",
       "      <td>43</td>\n",
       "      <td>1.25</td>\n",
       "    </tr>\n",
       "    <tr>\n",
       "      <th>4</th>\n",
       "      <td>20</td>\n",
       "      <td>1.50</td>\n",
       "    </tr>\n",
       "    <tr>\n",
       "      <th>5</th>\n",
       "      <td>22</td>\n",
       "      <td>1.75</td>\n",
       "    </tr>\n",
       "    <tr>\n",
       "      <th>6</th>\n",
       "      <td>33</td>\n",
       "      <td>1.75</td>\n",
       "    </tr>\n",
       "    <tr>\n",
       "      <th>7</th>\n",
       "      <td>50</td>\n",
       "      <td>2.00</td>\n",
       "    </tr>\n",
       "    <tr>\n",
       "      <th>8</th>\n",
       "      <td>62</td>\n",
       "      <td>2.25</td>\n",
       "    </tr>\n",
       "    <tr>\n",
       "      <th>9</th>\n",
       "      <td>48</td>\n",
       "      <td>2.50</td>\n",
       "    </tr>\n",
       "    <tr>\n",
       "      <th>10</th>\n",
       "      <td>55</td>\n",
       "      <td>2.75</td>\n",
       "    </tr>\n",
       "    <tr>\n",
       "      <th>11</th>\n",
       "      <td>75</td>\n",
       "      <td>3.00</td>\n",
       "    </tr>\n",
       "    <tr>\n",
       "      <th>12</th>\n",
       "      <td>62</td>\n",
       "      <td>3.25</td>\n",
       "    </tr>\n",
       "    <tr>\n",
       "      <th>13</th>\n",
       "      <td>73</td>\n",
       "      <td>3.50</td>\n",
       "    </tr>\n",
       "    <tr>\n",
       "      <th>14</th>\n",
       "      <td>81</td>\n",
       "      <td>4.00</td>\n",
       "    </tr>\n",
       "    <tr>\n",
       "      <th>15</th>\n",
       "      <td>76</td>\n",
       "      <td>4.25</td>\n",
       "    </tr>\n",
       "    <tr>\n",
       "      <th>16</th>\n",
       "      <td>64</td>\n",
       "      <td>4.50</td>\n",
       "    </tr>\n",
       "    <tr>\n",
       "      <th>17</th>\n",
       "      <td>82</td>\n",
       "      <td>4.75</td>\n",
       "    </tr>\n",
       "    <tr>\n",
       "      <th>18</th>\n",
       "      <td>90</td>\n",
       "      <td>5.00</td>\n",
       "    </tr>\n",
       "    <tr>\n",
       "      <th>19</th>\n",
       "      <td>93</td>\n",
       "      <td>5.50</td>\n",
       "    </tr>\n",
       "  </tbody>\n",
       "</table>\n",
       "</div>"
      ],
      "text/plain": [
       "    分数  学习时间\n",
       "0   10  0.50\n",
       "1   22  0.75\n",
       "2   13  1.00\n",
       "3   43  1.25\n",
       "4   20  1.50\n",
       "5   22  1.75\n",
       "6   33  1.75\n",
       "7   50  2.00\n",
       "8   62  2.25\n",
       "9   48  2.50\n",
       "10  55  2.75\n",
       "11  75  3.00\n",
       "12  62  3.25\n",
       "13  73  3.50\n",
       "14  81  4.00\n",
       "15  76  4.25\n",
       "16  64  4.50\n",
       "17  82  4.75\n",
       "18  90  5.00\n",
       "19  93  5.50"
      ]
     },
     "execution_count": 3,
     "metadata": {},
     "output_type": "execute_result"
    }
   ],
   "source": [
    "examDf"
   ]
  },
  {
   "cell_type": "markdown",
   "metadata": {},
   "source": [
    "从上面的数据可以看到数据的特征值与其标签，学生所学习的时间就是所需要的特征值，而成绩就是通过特征值所反应的标签。在这个案例中要对数据进行观测来反应学习时间与成绩的情况，将利用散点图来实现简单的观测。\n",
    "\n",
    "### 数据集散点图"
   ]
  },
  {
   "cell_type": "code",
   "execution_count": 4,
   "metadata": {},
   "outputs": [
    {
     "data": {
      "image/png": "[encoded data removed]",
      "text/plain": [
       "<matplotlib.figure.Figure at 0x1bf1f0d27f0>"
      ]
     },
     "metadata": {},
     "output_type": "display_data"
    }
   ],
   "source": [
    "#绘制散点图\n",
    "plt.scatter(examDf['分数'],examDf['学习时间'],color = 'b',label = \"Exam Data\")\n",
    "#添加图的标签（x轴、y轴）\n",
    "plt.xlabel(\"Hours\")\n",
    "plt.ylabel(\"Score\")\n",
    "#显示图像\n",
    "plt.show()"
   ]
  },
  {
   "cell_type": "markdown",
   "metadata": {},
   "source": [
    "从上图可以看到对于分数和时间来说存在相应的线性关系，且俩数据间相关性较强。在此可以通过相关性来衡量两个变量因素的相关密切程度。\n",
    "\n",
    "### 相关系数\n",
    "\n",
    "**相关系数是用以反映变量之间相关关系密切程度的统计指标。**\n",
    "\n",
    "`r(相关系数) = x和y的协方差/(x的标准差*y的标准差) == cov（x,y）/σx*σy（即person系数）`\n",
    "\n",
    "对于相关性强度来说的化有以下的关系：\n",
    "- 0~0.3 弱相关\n",
    "- 0.3~0.6  中等程度相关\n",
    "- 0.6~1  强相关"
   ]
  },
  {
   "cell_type": "code",
   "execution_count": 5,
   "metadata": {},
   "outputs": [
    {
     "name": "stdout",
     "output_type": "stream",
     "text": [
      "            分数      学习时间\n",
      "分数    1.000000  0.923985\n",
      "学习时间  0.923985  1.000000\n"
     ]
    }
   ],
   "source": [
    "rDf = examDf.corr()\n",
    "print(rDf)"
   ]
  },
  {
   "cell_type": "markdown",
   "metadata": {},
   "source": [
    "pandas中的数学统计函数`DataFrame.corr()`可以反应数据间的相关性关系，可从表值中反应出学习时间与分数之间的相关性为强相关（0.6~1）。\n",
    "\n",
    "### 最小二乘法\n",
    "\n",
    "对于简单线性回归来说，简单回归方程为： `y = a + b*x`(模型建立最佳拟合线)最佳拟合线也是需要通过最小二乘法来实现其作用。对于OLS即最小二乘法我们需要知道的一个关系为**点误差**，`点误差 = 实际值 - 预测值`，而**误差平方和（Sum of square error）**`SSE = Σ（实际值-预测值）^2`，最小二乘法就是基于SSE实现，最小二乘法 ： 使得误差平方和最小（最佳拟合）。\n",
    "\n",
    "### 训练集、测试集划分\n",
    "解释完简单线性回归后进行对训练集和测试集的创建，将会使用train_test_split函数来创建（train_test_split是存在与sklearn中的函数）"
   ]
  },
  {
   "cell_type": "code",
   "execution_count": 6,
   "metadata": {},
   "outputs": [
    {
     "name": "stdout",
     "output_type": "stream",
     "text": [
      "原始数据特征: (20,) ,训练数据特征: (16,) ,测试数据特征: (4,)\n",
      "原始数据标签: (20,) ,训练数据标签: (16,) ,测试数据标签: (4,)\n"
     ]
    }
   ],
   "source": [
    "exam_X = examDf['学习时间']\n",
    "exam_Y = examDf['分数']\n",
    "#将原数据集拆分训练集和测试集\n",
    "X_train,X_test,Y_train,Y_test = train_test_split(exam_X,exam_Y,train_size = 0.8,test_size = 0.2)\n",
    "#X_train为训练数据标签,X_test为测试数据标签,exam_X为样本特征,exam_y为样本标签，train_size 训练数据占比\n",
    "print(\"原始数据特征:\",exam_X.shape,\",训练数据特征:\",X_train.shape,\",测试数据特征:\",X_test.shape)\n",
    "print(\"原始数据标签:\",exam_Y.shape,\",训练数据标签:\",Y_train.shape,\",测试数据标签:\",Y_test.shape)"
   ]
  },
  {
   "cell_type": "markdown",
   "metadata": {},
   "source": [
    "下面是可视化。"
   ]
  },
  {
   "cell_type": "code",
   "execution_count": 7,
   "metadata": {},
   "outputs": [
    {
     "data": {
      "image/png": "[encoded data removed]",
      "text/plain": [
       "<matplotlib.figure.Figure at 0x1bf21122898>"
      ]
     },
     "metadata": {},
     "output_type": "display_data"
    }
   ],
   "source": [
    "#散点图\n",
    "plt.scatter(X_train, Y_train, color=\"blue\", label=\"train data\")\n",
    "plt.scatter(X_test, Y_test, color=\"red\", label=\"test data\")\n",
    " \n",
    "#添加图标标签\n",
    "plt.legend(loc=2)\n",
    "plt.xlabel(\"Hours\")\n",
    "plt.ylabel(\"Pass\")\n",
    "#显示图像\n",
    "plt.show()"
   ]
  },
  {
   "cell_type": "markdown",
   "metadata": {},
   "source": [
    "tips:由于训练集随机分配的原因每一次运行的结果（点的分布情况，训练集内的情况，测试集内的情况）不都相同。\n",
    "\n",
    "### 模型训练\n",
    "在创建数据集之后我们需要将训练集放入skleran中的线性回归模型`LinearRegression()`进行训练，使用函数种的`.fit`函数进行模型的训练操作。"
   ]
  },
  {
   "cell_type": "code",
   "execution_count": 8,
   "metadata": {},
   "outputs": [
    {
     "data": {
      "text/plain": [
       "LinearRegression(copy_X=True, fit_intercept=True, n_jobs=1, normalize=False)"
      ]
     },
     "execution_count": 8,
     "metadata": {},
     "output_type": "execute_result"
    }
   ],
   "source": [
    "model = LinearRegression()\n",
    "\n",
    "#对于模型错误我们需要把我们的训练集进行reshape操作来达到函数所需要的要求\n",
    " \n",
    "#reshape如果行数=-1的话可以使我们的数组所改的列数自动按照数组的大小形成新的数组\n",
    "#因为model需要二维的数组来进行拟合但是这里只有一个特征所以需要reshape来转换为二维数组\n",
    "X_train = X_train.values.reshape(-1,1)\n",
    "X_test = X_test.values.reshape(-1,1)\n",
    "\n",
    "model.fit(X_train,Y_train)"
   ]
  },
  {
   "cell_type": "markdown",
   "metadata": {},
   "source": [
    "在模型训练完成之后会得到所对应的方程式（线性回归方程式）需要利用函数中的`intercept_`与`coef_`来得到。"
   ]
  },
  {
   "cell_type": "code",
   "execution_count": 9,
   "metadata": {},
   "outputs": [
    {
     "name": "stdout",
     "output_type": "stream",
     "text": [
      "最佳拟合线：截距 6.837689362410515 ,回归系数： [17.11669719]\n"
     ]
    }
   ],
   "source": [
    "a = model.intercept_ #截距\n",
    "b = model.coef_ #回归系数\n",
    "print(\"最佳拟合线：截距\",a,\",回归系数：\",b)"
   ]
  },
  {
   "cell_type": "markdown",
   "metadata": {},
   "source": [
    "由上述的最佳拟合线的截距和回归系数可以算出其线性回归线方程：  \n",
    "`y = 7.56 + 16.28*x`\n",
    "\n",
    "### 模型评价\n",
    "接下来需要对模型进行预测和对模型进行评价，在进行评价之间将会引入一个决定系数R平方的概念。\n",
    "\n",
    "决定系数R平方常用于评估模型的精确度。"
   ]
  },
  {
   "cell_type": "code",
   "execution_count": 10,
   "metadata": {},
   "outputs": [
    {
     "data": {
      "image/png": "[encoded data removed]",
      "text/plain": [
       "<matplotlib.figure.Figure at 0x1bf211bf160>"
      ]
     },
     "metadata": {},
     "output_type": "display_data"
    }
   ],
   "source": [
    "#训练数据的预测值\n",
    "y_train_pred = model.predict(X_train)\n",
    "#绘制最佳拟合线：标签用的是训练数据的预测值y_train_pred\n",
    "plt.plot(X_train, y_train_pred, color='black', linewidth=3, label=\"best line\")\n",
    "\n",
    "#测试数据散点图\n",
    "plt.scatter(X_train, Y_train, color=\"blue\", label=\"train data\")\n",
    "plt.scatter(X_test, Y_test, color='red', label=\"test data\")\n",
    "\n",
    "#添加图标标签\n",
    "plt.legend(loc=2)\n",
    "plt.xlabel(\"Hours\")\n",
    "plt.ylabel(\"Score\")\n",
    "#显示图像\n",
    "plt.show()"
   ]
  },
  {
   "cell_type": "code",
   "execution_count": 11,
   "metadata": {},
   "outputs": [
    {
     "name": "stdout",
     "output_type": "stream",
     "text": [
      "0.8161998892697531\n"
     ]
    }
   ],
   "source": [
    "score = model.score(X_test,Y_test)\n",
    "print(score)"
   ]
  },
  {
   "cell_type": "markdown",
   "metadata": {},
   "source": [
    "## 多元线性回归\n",
    "在间单线性回归的例子中可以得到与线性回归相关的分析流程，接下来对多元线性回归进行分析。\n",
    "\n",
    "### 数据导入\n",
    "对于多元线性回归前面已经提到，形如`h(x)=theta0+theta1*x1+theta2*x2+theta3*x3`\n",
    "\n",
    "下面我们从[http://www-bcf.usc.edu/~gareth/ISL/Advertising.csv](http://www-bcf.usc.edu/~gareth/ISL/Advertising.csv) 来下载数据集Advertising.csv，其数据描述了一个产品的销量与广告媒体的投入之间影响。"
   ]
  },
  {
   "cell_type": "code",
   "execution_count": 13,
   "metadata": {},
   "outputs": [
    {
     "name": "stdout",
     "output_type": "stream",
     "text": [
      "head:       TV  radio  newspaper  sales\n",
      "0  230.1   37.8       69.2   22.1\n",
      "1   44.5   39.3       45.1   10.4\n",
      "2   17.2   45.9       69.3    9.3\n",
      "3  151.5   41.3       58.5   18.5\n",
      "4  180.8   10.8       58.4   12.9 \n",
      "Shape: (200, 4)\n"
     ]
    }
   ],
   "source": [
    "#通过read_csv来读取我们的目的数据集\n",
    "adv_data = pd.read_csv(\"Advertising.csv\")\n",
    "#清洗不需要的数据\n",
    "new_adv_data = adv_data.iloc[:,1:]\n",
    "#得到我们所需要的数据集且查看其前几列以及数据形状\n",
    "print('head:',new_adv_data.head(),'\\nShape:',new_adv_data.shape)"
   ]
  },
  {
   "cell_type": "markdown",
   "metadata": {},
   "source": [
    "对于上述的数据可以得到数据中\n",
    "\n",
    "标签值（sales）：\n",
    "- Sales：对应产品的销量\n",
    "\n",
    "特征值（TV，Radio，Newspaper）：\n",
    "- TV：对于一个给定市场中单一产品，用于电视上的广告费用（以千为单位）\n",
    "- Radio：在广播媒体上投资的广告费用\n",
    "- Newspaper：用于报纸媒体的广告费用\n",
    "\n",
    "在这个案例中，通过不同的广告投入，预测产品销量。因为响应变量是一个连续的值，所以这个问题是一个回归问题。数据集一共有200个观测值，每一组观测对应一个市场的情况。接下里对数据进行描述性统计，以及寻找缺失值（缺失值对模型的影响较大，如发现缺失值应替换或删除）,且利用箱图来从可视化方面来查看数据集，在描述统计之后对数据进行相关性分析，以此来查找数据中特征值与标签值之间的关系。"
   ]
  },
  {
   "cell_type": "markdown",
   "metadata": {},
   "source": [
    "### 数据描述"
   ]
  },
  {
   "cell_type": "code",
   "execution_count": 15,
   "metadata": {},
   "outputs": [
    {
     "data": {
      "text/html": [
       "<div>\n",
       "<style scoped>\n",
       "    .dataframe tbody tr th:only-of-type {\n",
       "        vertical-align: middle;\n",
       "    }\n",
       "\n",
       "    .dataframe tbody tr th {\n",
       "        vertical-align: top;\n",
       "    }\n",
       "\n",
       "    .dataframe thead th {\n",
       "        text-align: right;\n",
       "    }\n",
       "</style>\n",
       "<table border=\"1\" class=\"dataframe\">\n",
       "  <thead>\n",
       "    <tr style=\"text-align: right;\">\n",
       "      <th></th>\n",
       "      <th>TV</th>\n",
       "      <th>radio</th>\n",
       "      <th>newspaper</th>\n",
       "      <th>sales</th>\n",
       "    </tr>\n",
       "  </thead>\n",
       "  <tbody>\n",
       "    <tr>\n",
       "      <th>count</th>\n",
       "      <td>200.000000</td>\n",
       "      <td>200.000000</td>\n",
       "      <td>200.000000</td>\n",
       "      <td>200.000000</td>\n",
       "    </tr>\n",
       "    <tr>\n",
       "      <th>mean</th>\n",
       "      <td>147.042500</td>\n",
       "      <td>23.264000</td>\n",
       "      <td>30.554000</td>\n",
       "      <td>14.022500</td>\n",
       "    </tr>\n",
       "    <tr>\n",
       "      <th>std</th>\n",
       "      <td>85.854236</td>\n",
       "      <td>14.846809</td>\n",
       "      <td>21.778621</td>\n",
       "      <td>5.217457</td>\n",
       "    </tr>\n",
       "    <tr>\n",
       "      <th>min</th>\n",
       "      <td>0.700000</td>\n",
       "      <td>0.000000</td>\n",
       "      <td>0.300000</td>\n",
       "      <td>1.600000</td>\n",
       "    </tr>\n",
       "    <tr>\n",
       "      <th>25%</th>\n",
       "      <td>74.375000</td>\n",
       "      <td>9.975000</td>\n",
       "      <td>12.750000</td>\n",
       "      <td>10.375000</td>\n",
       "    </tr>\n",
       "    <tr>\n",
       "      <th>50%</th>\n",
       "      <td>149.750000</td>\n",
       "      <td>22.900000</td>\n",
       "      <td>25.750000</td>\n",
       "      <td>12.900000</td>\n",
       "    </tr>\n",
       "    <tr>\n",
       "      <th>75%</th>\n",
       "      <td>218.825000</td>\n",
       "      <td>36.525000</td>\n",
       "      <td>45.100000</td>\n",
       "      <td>17.400000</td>\n",
       "    </tr>\n",
       "    <tr>\n",
       "      <th>max</th>\n",
       "      <td>296.400000</td>\n",
       "      <td>49.600000</td>\n",
       "      <td>114.000000</td>\n",
       "      <td>27.000000</td>\n",
       "    </tr>\n",
       "  </tbody>\n",
       "</table>\n",
       "</div>"
      ],
      "text/plain": [
       "               TV       radio   newspaper       sales\n",
       "count  200.000000  200.000000  200.000000  200.000000\n",
       "mean   147.042500   23.264000   30.554000   14.022500\n",
       "std     85.854236   14.846809   21.778621    5.217457\n",
       "min      0.700000    0.000000    0.300000    1.600000\n",
       "25%     74.375000    9.975000   12.750000   10.375000\n",
       "50%    149.750000   22.900000   25.750000   12.900000\n",
       "75%    218.825000   36.525000   45.100000   17.400000\n",
       "max    296.400000   49.600000  114.000000   27.000000"
      ]
     },
     "execution_count": 15,
     "metadata": {},
     "output_type": "execute_result"
    }
   ],
   "source": [
    "#数据描述\n",
    "new_adv_data.describe()"
   ]
  },
  {
   "cell_type": "markdown",
   "metadata": {},
   "source": [
    "### 缺失值检验"
   ]
  },
  {
   "cell_type": "code",
   "execution_count": 16,
   "metadata": {},
   "outputs": [
    {
     "data": {
      "text/plain": [
       "TV           0\n",
       "radio        0\n",
       "newspaper    0\n",
       "sales        0\n",
       "dtype: int64"
      ]
     },
     "execution_count": 16,
     "metadata": {},
     "output_type": "execute_result"
    }
   ],
   "source": [
    "#缺失值检验\n",
    "new_adv_data[new_adv_data.isnull()==True].count()"
   ]
  },
  {
   "cell_type": "markdown",
   "metadata": {},
   "source": [
    "### 箱形图"
   ]
  },
  {
   "cell_type": "code",
   "execution_count": 17,
   "metadata": {},
   "outputs": [
    {
     "data": {
      "image/png": "[encoded data removed]",
      "text/plain": [
       "<matplotlib.figure.Figure at 0x1bf1f0d2438>"
      ]
     },
     "metadata": {},
     "output_type": "display_data"
    }
   ],
   "source": [
    "new_adv_data.boxplot()\n",
    "plt.show()"
   ]
  },
  {
   "cell_type": "markdown",
   "metadata": {},
   "source": [
    "### 相关系数"
   ]
  },
  {
   "cell_type": "code",
   "execution_count": 18,
   "metadata": {},
   "outputs": [
    {
     "data": {
      "text/html": [
       "<div>\n",
       "<style scoped>\n",
       "    .dataframe tbody tr th:only-of-type {\n",
       "        vertical-align: middle;\n",
       "    }\n",
       "\n",
       "    .dataframe tbody tr th {\n",
       "        vertical-align: top;\n",
       "    }\n",
       "\n",
       "    .dataframe thead th {\n",
       "        text-align: right;\n",
       "    }\n",
       "</style>\n",
       "<table border=\"1\" class=\"dataframe\">\n",
       "  <thead>\n",
       "    <tr style=\"text-align: right;\">\n",
       "      <th></th>\n",
       "      <th>TV</th>\n",
       "      <th>radio</th>\n",
       "      <th>newspaper</th>\n",
       "      <th>sales</th>\n",
       "    </tr>\n",
       "  </thead>\n",
       "  <tbody>\n",
       "    <tr>\n",
       "      <th>TV</th>\n",
       "      <td>1.000000</td>\n",
       "      <td>0.054809</td>\n",
       "      <td>0.056648</td>\n",
       "      <td>0.782224</td>\n",
       "    </tr>\n",
       "    <tr>\n",
       "      <th>radio</th>\n",
       "      <td>0.054809</td>\n",
       "      <td>1.000000</td>\n",
       "      <td>0.354104</td>\n",
       "      <td>0.576223</td>\n",
       "    </tr>\n",
       "    <tr>\n",
       "      <th>newspaper</th>\n",
       "      <td>0.056648</td>\n",
       "      <td>0.354104</td>\n",
       "      <td>1.000000</td>\n",
       "      <td>0.228299</td>\n",
       "    </tr>\n",
       "    <tr>\n",
       "      <th>sales</th>\n",
       "      <td>0.782224</td>\n",
       "      <td>0.576223</td>\n",
       "      <td>0.228299</td>\n",
       "      <td>1.000000</td>\n",
       "    </tr>\n",
       "  </tbody>\n",
       "</table>\n",
       "</div>"
      ],
      "text/plain": [
       "                 TV     radio  newspaper     sales\n",
       "TV         1.000000  0.054809   0.056648  0.782224\n",
       "radio      0.054809  1.000000   0.354104  0.576223\n",
       "newspaper  0.056648  0.354104   1.000000  0.228299\n",
       "sales      0.782224  0.576223   0.228299  1.000000"
      ]
     },
     "execution_count": 18,
     "metadata": {},
     "output_type": "execute_result"
    }
   ],
   "source": [
    "##相关系数矩阵 r(相关系数) = x和y的协方差/(x的标准差*y的标准差) == cov（x,y）/σx*σy\n",
    "#相关系数0~0.3弱相关0.3~0.6中等程度相关0.6~1强相关\n",
    "new_adv_data.corr()"
   ]
  },
  {
   "cell_type": "markdown",
   "metadata": {},
   "source": [
    "可以从corr表中看出，TV特征和销量是有比较强的线性关系的，而Radio和Sales线性关系弱一些但是也是属于强相关的，Newspaper和Sales线性关系更弱。接下来建立散点图来查看数据里的数据分析情况以及对相对应的线性情况，将使用seaborn的pairplot来绘画3种不同的因素对标签值的影响。"
   ]
  },
  {
   "cell_type": "code",
   "execution_count": 21,
   "metadata": {},
   "outputs": [
    {
     "data": {
      "image/png": "[encoded data removed]",
      "text/plain": [
       "<matplotlib.figure.Figure at 0x1bf2252dac8>"
      ]
     },
     "metadata": {},
     "output_type": "display_data"
    }
   ],
   "source": [
    "# 通过加入一个参数kind='reg'，seaborn可以添加一条最佳拟合直线和95%的置信带。\n",
    "sns.pairplot(new_adv_data, x_vars=['TV','radio','newspaper'], y_vars='sales', size=7, aspect=0.8,kind = 'reg')\n",
    "plt.show()"
   ]
  },
  {
   "cell_type": "markdown",
   "metadata": {},
   "source": [
    "如上图所示，可以了解到不同的因素对销量的预测线（置信度= 95 %），也可以大致看出不同特征对于标签值的影响与相关关系。\n",
    "\n",
    "### 建立模型\n",
    "在了解了数据的各种情况后需要对数据集建立模型，在建立模型的第一步我们将建立训练集与测试集，同样的我们将会使用train_test_split函数来创建。"
   ]
  },
  {
   "cell_type": "code",
   "execution_count": 22,
   "metadata": {},
   "outputs": [
    {
     "name": "stdout",
     "output_type": "stream",
     "text": [
      "原始数据特征: (200, 3) ,训练数据特征: (160, 3) ,测试数据特征: (40, 3)\n",
      "原始数据标签: (200,) ,训练数据标签: (160,) ,测试数据标签: (40,)\n"
     ]
    }
   ],
   "source": [
    "X_train,X_test,Y_train,Y_test = train_test_split(new_adv_data.iloc[:,:3],new_adv_data.sales,train_size = 0.8,test_size = 0.2)\n",
    " \n",
    "print(\"原始数据特征:\",new_adv_data.iloc[:,:3].shape,\",训练数据特征:\",X_train.shape,\",测试数据特征:\",X_test.shape)\n",
    "print(\"原始数据标签:\",new_adv_data.sales.shape,\",训练数据标签:\",Y_train.shape,\",测试数据标签:\",Y_test.shape)"
   ]
  },
  {
   "cell_type": "markdown",
   "metadata": {},
   "source": [
    "建立初步的数据集模型之后将训练集中的特征值与标签值放入LinearRegression()模型中且使用fit函数进行训练,在模型训练完成之后会得到所对应的方程式（线性回归方程式）需要利用函数中的intercept_与coef_。"
   ]
  },
  {
   "cell_type": "code",
   "execution_count": 23,
   "metadata": {},
   "outputs": [
    {
     "name": "stdout",
     "output_type": "stream",
     "text": [
      "最佳拟合线:截距 2.7283555357741935 ,回归系数： [ 0.04665892  0.19082797 -0.00099623]\n"
     ]
    }
   ],
   "source": [
    "model = LinearRegression()\n",
    "model.fit(X_train,Y_train)\n",
    "\n",
    "a  = model.intercept_ #截距 \n",
    "b = model.coef_ #回归系数\n",
    "print(\"最佳拟合线:截距\",a,\",回归系数：\",b)"
   ]
  },
  {
   "cell_type": "markdown",
   "metadata": {},
   "source": [
    "即所得的多元线性回归模型的函数为 ：   \n",
    "`y = 2.79 + 0.04 * TV + 0.187 * Radio - 0.002 * Newspaper`。  \n",
    "对于给定了Radio和Newspaper的广告投入，如果在TV广告上每多投入1个单位，对应销量将增加0.04711个单位。就是加入其它两个媒体投入固定，在TV广告上每增加1000美元（因为单位是1000美元），销量将增加47.11（因为单位是1000）。\n",
    "\n",
    "但是大家注意这里的newspaper的系数居然是负数，所以我们可以考虑不使用newspaper这个特征。\n",
    "\n",
    "### 模型评估\n",
    "接下来对数据集进行预测与模型测评。同样使用predict与score函数来获取所需要的预测值与得分。\n",
    "\n",
    "**R方检测---决定系数R平方**\n",
    "- y误差平方和 = Σ(y实际值 - y预测值)^2\n",
    "- y的总波动 = Σ(y实际值 - y平均值)^2\n",
    "- 有多少百分比的y波动没有被回归拟合线所描述 = SSE/总波动\n",
    "- 有多少百分比的y波动被回归线描述 = 1 - SSE/总波动 = 决定系数R平方"
   ]
  },
  {
   "cell_type": "code",
   "execution_count": 24,
   "metadata": {},
   "outputs": [
    {
     "name": "stdout",
     "output_type": "stream",
     "text": [
      "0.9028750733729708\n"
     ]
    }
   ],
   "source": [
    "score = model.score(X_test,Y_test) \n",
    "print(score)"
   ]
  },
  {
   "cell_type": "code",
   "execution_count": 25,
   "metadata": {},
   "outputs": [
    {
     "name": "stdout",
     "output_type": "stream",
     "text": [
      "[ 5.88658387 19.04199354 19.52640033 17.70822778 10.71716318  5.2030417\n",
      " 24.26646035 12.76256323  9.82255698 18.52225153 21.3759422   7.45340113\n",
      "  4.28180262 19.73124396 20.7434211  20.46565901  8.02140753 21.32827151\n",
      " 15.59515058  8.76729192 18.44116227 10.52302626 13.16705012 15.18864077\n",
      "  9.9417295  15.2734619  12.1230943  10.46509366 11.64698928 13.9265036\n",
      " 15.06236293  6.66457005 12.6079046  18.00988685 17.10350626  9.24127309\n",
      " 11.36598772 18.937225    6.43101507  6.89520345]\n"
     ]
    }
   ],
   "source": [
    "#对线性回归进行预测\n",
    "Y_pred = model.predict(X_test)\n",
    "print(Y_pred)"
   ]
  },
  {
   "cell_type": "code",
   "execution_count": 28,
   "metadata": {},
   "outputs": [
    {
     "data": {
      "image/png": "[encoded data removed]",
      "text/plain": [
       "<matplotlib.figure.Figure at 0x1bf225fa6d8>"
      ]
     },
     "metadata": {},
     "output_type": "display_data"
    }
   ],
   "source": [
    "plt.plot(range(len(Y_pred)),Y_pred,'b',label=\"predict\")\n",
    "plt.plot(range(len(Y_test)),Y_test,'r',label=\"test\")\n",
    "#显示图像\n",
    "#添加图标标签\n",
    "plt.legend(loc=2)\n",
    "plt.show()"
   ]
  }
 ],
 "metadata": {
  "kernelspec": {
   "display_name": "Python 3",
   "language": "python",
   "name": "python3"
  },
  "language_info": {
   "codemirror_mode": {
    "name": "ipython",
    "version": 3
   },
   "file_extension": ".py",
   "mimetype": "text/x-python",
   "name": "python",
   "nbconvert_exporter": "python",
   "pygments_lexer": "ipython3",
   "version": "3.6.1"
  },
  "toc": {
   "nav_menu": {},
   "number_sections": true,
   "sideBar": true,
   "skip_h1_title": false,
   "title_cell": "Table of Contents",
   "title_sidebar": "Contents",
   "toc_cell": false,
   "toc_position": {},
   "toc_section_display": true,
   "toc_window_display": false
  }
 },
 "nbformat": 4,
 "nbformat_minor": 2
}
